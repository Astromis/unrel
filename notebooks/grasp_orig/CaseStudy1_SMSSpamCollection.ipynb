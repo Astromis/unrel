{
 "cells": [
  {
   "cell_type": "code",
   "execution_count": 1,
   "metadata": {},
   "outputs": [],
   "source": [
    "%load_ext autoreload\n",
    "%autoreload 2"
   ]
  },
  {
   "cell_type": "code",
   "execution_count": 11,
   "metadata": {},
   "outputs": [],
   "source": [
    "import src.dataset_analyzer.grasp as grasp\n",
    "from src.dataset_analyzer.grasp.grasp import GrASP\n",
    "from sklearn.model_selection import train_test_split"
   ]
  },
  {
   "cell_type": "markdown",
   "metadata": {},
   "source": [
    "## Load the data\n",
    "- We use the SMS Spam Collection dataset from the following paper. Please download and unzip it by running the two cells below **only if you have not done this before**.\n",
    "\n",
    "```\n",
    "Almeida, T. A., Hidalgo, J. M. G., & Yamakami, A. (2011, September). Contributions to the study of SMS spam filtering: new collection and results. In Proceedings of the 11th ACM symposium on Document engineering (pp. 259-262).\n",
    "```"
   ]
  },
  {
   "cell_type": "code",
   "execution_count": 5,
   "metadata": {},
   "outputs": [
    {
     "data": {
      "text/plain": [
       "('./data/smsspamcollection.zip', <http.client.HTTPMessage at 0x7fbc8f96f370>)"
      ]
     },
     "execution_count": 5,
     "metadata": {},
     "output_type": "execute_result"
    }
   ],
   "source": [
    "import urllib.request\n",
    "url = 'http://www.dt.fee.unicamp.br/~tiago/smsspamcollection/smsspamcollection.zip'\n",
    "filename = './data/smsspamcollection.zip'\n",
    "urllib.request.urlretrieve(url, filename)"
   ]
  },
  {
   "cell_type": "code",
   "execution_count": 6,
   "metadata": {},
   "outputs": [
    {
     "name": "stdout",
     "output_type": "stream",
     "text": [
      "Archive:  ./data/smsspamcollection.zip\n",
      "  inflating: ./data/readme           \n",
      "  inflating: ./data/SMSSpamCollection.txt  \n"
     ]
    }
   ],
   "source": [
    "!unzip ./data/smsspamcollection.zip -d ./data"
   ]
  },
  {
   "cell_type": "markdown",
   "metadata": {},
   "source": [
    "- Load the data"
   ]
  },
  {
   "cell_type": "code",
   "execution_count": 3,
   "metadata": {},
   "outputs": [],
   "source": [
    "def get_data():\n",
    "    f = open('data/SMSSpamCollection.txt', 'r')\n",
    "    texts, labels = [], []\n",
    "    for line in f:\n",
    "        line = line.strip()\n",
    "        tab_idx = line.index('\\t')\n",
    "        label = line[:tab_idx]\n",
    "        text = line[tab_idx+1:]\n",
    "        if label == 'ham':\n",
    "            label = 0\n",
    "        elif label == 'spam':\n",
    "            label = 1\n",
    "        else:\n",
    "            raise Exception(f\"Invalid label - {label}\")\n",
    "        texts.append(text)\n",
    "        labels.append(label)\n",
    "    return texts, labels"
   ]
  },
  {
   "cell_type": "code",
   "execution_count": 4,
   "metadata": {},
   "outputs": [],
   "source": [
    "texts, labels = get_data()\n",
    "X_train, X_test, y_train, y_test = train_test_split(texts, labels, test_size=0.2, random_state=1)\n",
    "X_train, X_val, y_train, y_val = train_test_split(X_train, y_train, test_size=0.2, random_state=1)\n",
    "# len(texts), sum(labels), len(X_test), sum(y_test)"
   ]
  },
  {
   "cell_type": "code",
   "execution_count": 5,
   "metadata": {},
   "outputs": [
    {
     "name": "stdout",
     "output_type": "stream",
     "text": [
      "Positive examples = 488\n",
      "Negative examples = 3079\n"
     ]
    }
   ],
   "source": [
    "positive = [t for idx, t in enumerate(X_train) if y_train[idx]]\n",
    "negative = [t for idx, t in enumerate(X_train) if not y_train[idx]]\n",
    "print(f'Positive examples = {len(positive)}\\nNegative examples = {len(negative)}')"
   ]
  },
  {
   "cell_type": "code",
   "execution_count": 6,
   "metadata": {},
   "outputs": [
    {
     "data": {
      "text/plain": [
       "\"Great. I was getting worried about you. Just know that a wonderful and caring person like you will have only the best in life. Know that u r wonderful and God's love is yours.\""
      ]
     },
     "execution_count": 6,
     "metadata": {},
     "output_type": "execute_result"
    }
   ],
   "source": [
    "negative[0]"
   ]
  },
  {
   "cell_type": "markdown",
   "metadata": {},
   "source": [
    "## Run GrASP"
   ]
  },
  {
   "cell_type": "code",
   "execution_count": 7,
   "metadata": {},
   "outputs": [],
   "source": [
    "# Create the GrASP engine\n",
    "grasp_model = GrASP(include_standard = ['TEXT', 'POS', 'HYPERNYM', 'SENTIMENT'],\n",
    "                    num_patterns = 100, gaps_allowed = 2)"
   ]
  },
  {
   "cell_type": "code",
   "execution_count": 8,
   "metadata": {
    "scrolled": true
   },
   "outputs": [
    {
     "name": "stdout",
     "output_type": "stream",
     "text": [
      "Step 1: Create augmented texts\n"
     ]
    },
    {
     "name": "stderr",
     "output_type": "stream",
     "text": [
      "100%|██████████| 100/100 [00:05<00:00, 17.20it/s]\n",
      "100%|██████████| 100/100 [00:02<00:00, 43.34it/s]\n"
     ]
    },
    {
     "name": "stdout",
     "output_type": "stream",
     "text": [
      "Step 2: Find frequent attributes\n",
      "Total number of candidate alphabet = 3395, such as ['SPACY:POS-NOUN', 'SPACY:POS-VERB', 'SPACY:POS-PUNCT', 'SPACY:POS-PROPN', 'SPACY:POS-PRON']\n",
      "Step 3: Find alphabet set\n"
     ]
    },
    {
     "name": "stderr",
     "output_type": "stream",
     "text": [
      "100%|██████████| 3395/3395 [00:04<00:00, 833.75it/s]\n"
     ]
    },
    {
     "name": "stdout",
     "output_type": "stream",
     "text": [
      "Finding top k: 10 / 100\n",
      "Finding top k: 20 / 100\n",
      "Finding top k: 30 / 100\n",
      "Finding top k: 40 / 100\n",
      "Finding top k: 50 / 100\n",
      "Finding top k: 60 / 100\n",
      "Finding top k: 70 / 100\n",
      "Finding top k: 80 / 100\n",
      "Finding top k: 90 / 100\n",
      "Finding top k: 100 / 100\n",
      "Total number of alphabet = 100\n",
      "Step 4: Grow patterns\n"
     ]
    },
    {
     "name": "stderr",
     "output_type": "stream",
     "text": [
      "100%|██████████| 100/100 [00:04<00:00, 24.54it/s]\n"
     ]
    },
    {
     "name": "stdout",
     "output_type": "stream",
     "text": [
      "Length 2 / 5; New candidates = 14950\n",
      "Finding top k: 10 / 100\n",
      "Finding top k: 20 / 100\n",
      "Finding top k: 30 / 100\n",
      "Finding top k: 40 / 100\n",
      "Finding top k: 50 / 100\n",
      "Finding top k: 60 / 100\n",
      "Finding top k: 70 / 100\n",
      "Finding top k: 80 / 100\n",
      "Finding top k: 90 / 100\n",
      "Finding top k: 100 / 100\n"
     ]
    },
    {
     "name": "stderr",
     "output_type": "stream",
     "text": [
      "100%|██████████| 71/71 [00:05<00:00, 12.36it/s]\n"
     ]
    },
    {
     "name": "stdout",
     "output_type": "stream",
     "text": [
      "Length 3 / 5; New candidates = 13891\n",
      "Finding top k: 10 / 100\n",
      "Finding top k: 20 / 100\n",
      "Finding top k: 30 / 100\n",
      "Finding top k: 40 / 100\n",
      "Finding top k: 50 / 100\n",
      "Finding top k: 60 / 100\n",
      "Finding top k: 70 / 100\n",
      "Finding top k: 80 / 100\n",
      "Finding top k: 90 / 100\n",
      "Finding top k: 100 / 100\n"
     ]
    },
    {
     "name": "stderr",
     "output_type": "stream",
     "text": [
      "100%|██████████| 33/33 [00:03<00:00,  9.33it/s]\n"
     ]
    },
    {
     "name": "stdout",
     "output_type": "stream",
     "text": [
      "Length 4 / 5; New candidates = 6541\n",
      "Finding top k: 10 / 100\n",
      "Finding top k: 20 / 100\n",
      "Finding top k: 30 / 100\n",
      "Finding top k: 40 / 100\n",
      "Finding top k: 50 / 100\n",
      "Finding top k: 60 / 100\n",
      "Finding top k: 70 / 100\n",
      "Finding top k: 80 / 100\n",
      "Finding top k: 90 / 100\n",
      "Finding top k: 100 / 100\n"
     ]
    },
    {
     "name": "stderr",
     "output_type": "stream",
     "text": [
      "100%|██████████| 5/5 [00:00<00:00,  6.46it/s]\n"
     ]
    },
    {
     "name": "stdout",
     "output_type": "stream",
     "text": [
      "Length 5 / 5; New candidates = 991\n",
      "Finding top k: 10 / 100\n",
      "Finding top k: 20 / 100\n",
      "Finding top k: 30 / 100\n",
      "Finding top k: 40 / 100\n",
      "Finding top k: 50 / 100\n",
      "Finding top k: 60 / 100\n",
      "Finding top k: 70 / 100\n",
      "Finding top k: 80 / 100\n",
      "Finding top k: 90 / 100\n",
      "Finding top k: 100 / 100\n"
     ]
    }
   ],
   "source": [
    "# Fit GrASP to the dataset\n",
    "the_patterns = grasp_model.fit_transform(positive[:100], negative[:100])"
   ]
  },
  {
   "cell_type": "code",
   "execution_count": null,
   "metadata": {},
   "outputs": [],
   "source": [
    "# Print the learned patterns\n",
    "for idx, p in enumerate(the_patterns):\n",
    "    print(f'Rank {idx+1}')\n",
    "    print(p)"
   ]
  },
  {
   "cell_type": "code",
   "execution_count": 20,
   "metadata": {
    "scrolled": true
   },
   "outputs": [
    {
     "name": "stdout",
     "output_type": "stream",
     "text": [
      "  #    class Cov(%)    Prec    Gain    Pattern\n",
      "  1 Positive   53.0   0.858   0.474    [['SPACY:POS-NUM']]\n",
      "  2 Positive   34.5   0.971   0.401    [['SPACY:POS-PROPN'], ['SPACY:POS-NUM']]\n",
      "  3 Positive   30.5   0.934   0.273    [['SPACY:POS-NUM'], ['SPACY:POS-PROPN']]\n",
      "  4 Positive   47.5   0.789   0.232    [['SPACY:POS-PROPN'], ['SPACY:POS-PROPN']]\n",
      "  5 Positive   19.5   1.000   0.229    [['TEXT:call'], ['SPACY:POS-NUM']]\n",
      "  6 Positive   26.5   0.925   0.213    [['SPACY:POS-PROPN'], ['SPACY:POS-PROPN'], ['SPACY:POS-PROPN']]\n",
      "  7 Positive   23.0   0.957   0.212    [['SPACY:POS-SYM']]\n",
      "  8 Positive   36.5   0.836   0.200    [['SPACY:POS-NUM'], ['SPACY:POS-NOUN']]\n",
      "  9 Positive   19.5   0.974   0.192    [['TEXT:.'], ['SPACY:POS-NUM']]\n",
      " 10 Positive   46.0   0.772   0.190    [['SPACY:POS-NOUN'], ['SPACY:POS-PROPN']]\n",
      " 11 Positive   18.5   0.973   0.179    [['SPACY:POS-NUM'], ['TEXT:.']]\n",
      " 12 Positive   21.5   0.930   0.168    [['SPACY:POS-NUM'], ['SPACY:POS-ADP']]\n",
      " 13 Positive   17.5   0.971   0.166    [['SPACY:POS-DET'], ['SPACY:POS-PROPN']]\n",
      " 14 Positive   17.5   0.971   0.166    [['SPACY:POS-NUM'], ['SPACY:POS-PROPN'], ['SPACY:POS-PROPN']]\n",
      " 15 Positive   14.5   1.000   0.163    [['SPACY:POS-PROPN'], ['SPACY:POS-ADP'], ['SPACY:POS-NUM']]\n",
      " 16 Positive   14.5   1.000   0.163    [['SPACY:POS-PROPN'], ['SPACY:POS-NOUN'], ['SPACY:POS-NUM']]\n",
      " 17 Positive   25.5   0.882   0.159    [['SPACY:POS-PROPN'], ['SPACY:POS-ADP']]\n",
      " 18 Positive   16.5   0.970   0.154    [['TEXT:to'], ['SPACY:POS-NUM']]\n",
      " 19 Positive   18.5   0.946   0.153    [['SPACY:POS-NUM'], ['SPACY:POS-NUM']]\n",
      " 20 Positive   25.0   0.880   0.153    [['SPACY:POS-PROPN'], ['SPACY:POS-PROPN'], ['SPACY:POS-NOUN']]\n",
      " 21 Positive   29.0   0.845   0.151    [['SPACY:POS-ADP'], ['SPACY:POS-NUM']]\n",
      " 22 Positive   21.0   0.905   0.141    [['SPACY:POS-NOUN'], ['SPACY:POS-PROPN'], ['SPACY:POS-PROPN']]\n",
      " 23 Positive   12.5   1.000   0.138    [['SPACY:POS-PROPN'], ['SPACY:POS-SYM']]\n",
      " 24 Positive   72.5   0.628   0.133    [['SPACY:POS-PROPN']]\n",
      " 25 Positive   12.0   1.000   0.132    [['SPACY:POS-PROPN'], ['SPACY:POS-NUM'], ['SPACY:POS-PROPN']]\n",
      " 26 Positive   18.5   0.919   0.131    [['TEXT:.'], ['SPACY:POS-NOUN']]\n",
      " 27 Positive   11.5   1.000   0.126    [['SPACY:POS-PROPN'], ['SPACY:POS-PROPN'], ['SPACY:POS-PROPN'], ['SPACY:POS-NUM']]\n",
      " 28 Negative   22.5   0.867   0.123    [['TEXT:i']]\n",
      " 29 Positive   11.0   1.000   0.120    [['SPACY:POS-PROPN'], ['SPACY:POS-PROPN'], ['SPACY:POS-PROPN'], ['SPACY:POS-NOUN']]\n",
      " 30 Positive   46.0   0.717   0.120    [['SPACY:POS-PROPN'], ['SPACY:POS-NOUN']]\n",
      " 31 Positive   25.0   0.840   0.119    [['TEXT:!']]\n",
      " 32 Positive   20.5   0.878   0.117    [['HYPERNYM:message.n.02']]\n",
      " 33 Positive   13.5   0.963   0.117    [['SPACY:POS-NOUN'], ['TEXT:call']]\n",
      " 34 Positive   10.5   1.000   0.114    [['SPACY:POS-SYM'], ['SPACY:POS-PROPN']]\n",
      " 35 Positive   13.0   0.962   0.111    [['TEXT:.'], ['SPACY:POS-PROPN'], ['SPACY:POS-PROPN']]\n",
      " 36 Positive   10.0   1.000   0.108    [['SENTIMENT:pos', 'SPACY:POS-PROPN']]\n",
      " 37 Positive    9.5   1.000   0.102    [['SPACY:POS-PROPN'], ['SPACY:POS-DET']]\n",
      " 38 Positive    9.5   1.000   0.102    [['TEXT:!'], ['SPACY:POS-PROPN']]\n",
      " 39 Positive   14.0   0.929   0.100    [['SPACY:POS-PROPN'], ['SPACY:POS-PROPN'], ['TEXT:.']]\n",
      " 40 Positive   29.5   0.780   0.099    [['SPACY:POS-PROPN'], ['TEXT:.']]\n",
      " 41 Positive   15.5   0.903   0.097    [['SPACY:POS-PROPN'], ['TEXT:to']]\n",
      " 42 Positive    9.0   1.000   0.096    [['SPACY:POS-PROPN'], ['TEXT:call']]\n",
      " 43 Positive    9.0   1.000   0.096    [['SPACY:POS-PROPN'], ['SPACY:POS-NUM'], ['SPACY:POS-NUM']]\n",
      " 44 Positive    9.0   1.000   0.096    [['SPACY:POS-PROPN'], ['TEXT:.'], ['SPACY:POS-NOUN']]\n",
      " 45 Positive   71.0   0.613   0.094    [['SPACY:POS-ADP']]\n",
      " 46 Positive   26.5   0.792   0.094    [['SPACY:POS-ADP', 'TEXT:to']]\n",
      " 47 Positive   15.0   0.900   0.092    [['SPACY:POS-NUM'], ['SPACY:POS-NOUN'], ['SPACY:POS-NOUN']]\n",
      " 48 Positive    8.5   1.000   0.091    [['TEXT:txt']]\n",
      " 49 Positive    8.5   1.000   0.091    [['SPACY:POS-DET'], ['SPACY:POS-PROPN'], ['SPACY:POS-PROPN']]\n",
      " 50 Positive    8.5   1.000   0.091    [['SPACY:POS-DET', 'TEXT:a'], ['SPACY:POS-PROPN']]\n",
      " 51 Positive   24.5   0.796   0.086    [['SPACY:POS-NOUN'], ['TEXT:to']]\n",
      " 52 Positive    8.0   1.000   0.085    [['HYPERNYM:communication.n.02'], ['SPACY:POS-NUM']]\n",
      " 53 Positive   10.5   0.952   0.083    [['TEXT:free']]\n",
      " 54 Positive   10.5   0.952   0.083    [['TEXT:/']]\n",
      " 55 Positive   10.5   0.952   0.083    [['SPACY:POS-NOUN'], ['SPACY:POS-PROPN'], ['SPACY:POS-NUM']]\n",
      " 56 Positive   20.0   0.825   0.082    [['TEXT:for']]\n",
      " 57 Positive   17.0   0.853   0.080    [['HYPERNYM:act.n.02']]\n",
      " 58 Positive   51.5   0.660   0.080    [['SPACY:POS-DET']]\n",
      " 59 Positive    7.5   1.000   0.079    [['TEXT:claim']]\n",
      " 60 Negative    7.5   1.000   0.079    [['TEXT:my']]\n",
      " 61 Positive    7.5   1.000   0.079    [['SPACY:POS-PROPN'], ['HYPERNYM:message.n.02']]\n",
      " 62 Positive    7.5   1.000   0.079    [['HYPERNYM:message.n.02'], ['SPACY:POS-PROPN']]\n",
      " 63 Positive    7.5   1.000   0.079    [['HYPERNYM:act.n.02'], ['SPACY:POS-PROPN']]\n",
      " 64 Positive   25.0   0.780   0.079    [['TEXT:.'], ['SPACY:POS-PROPN']]\n",
      " 65 Positive   12.0   0.917   0.079    [['SPACY:POS-PROPN'], ['SPACY:POS-NUM'], ['SPACY:POS-NOUN']]\n",
      " 66 Positive   10.0   0.950   0.078    [['SPACY:POS-NUM'], ['SENTIMENT:pos']]\n",
      " 67 Positive    7.0   1.000   0.074    [['HYPERNYM:symbol.n.01']]\n",
      " 68 Positive    7.0   1.000   0.074    [['TEXT:.'], ['SPACY:POS-NUM'], ['SPACY:POS-PROPN']]\n",
      " 69 Positive    7.0   1.000   0.074    [['SPACY:POS-PROPN'], ['SPACY:POS-PROPN'], ['SPACY:POS-NOUN'], ['SPACY:POS-NUM']]\n",
      " 70 Positive   11.5   0.913   0.073    [['SPACY:POS-NUM'], ['SPACY:POS-PROPN'], ['SPACY:POS-NUM']]\n",
      " 71 Positive   11.5   0.913   0.073    [['SPACY:POS-NUM'], ['SPACY:POS-NOUN'], ['TEXT:.']]\n",
      " 72 Positive   11.5   0.913   0.073    [['SPACY:POS-PROPN'], ['SPACY:POS-NOUN'], ['SPACY:POS-PROPN']]\n",
      " 73 Positive    9.5   0.947   0.073    [['SPACY:POS-NUM'], ['SPACY:POS-SYM']]\n",
      " 74 Positive    9.5   0.947   0.073    [['SPACY:POS-NUM'], ['SPACY:POS-ADP'], ['SPACY:POS-PROPN']]\n",
      " 75 Positive   14.5   0.862   0.070    [['SPACY:POS-NUM'], ['SPACY:POS-NOUN'], ['SPACY:POS-PROPN']]\n",
      " 76 Positive   21.5   0.791   0.070    [['HYPERNYM:communication.n.02']]\n",
      " 77 Positive    6.5   1.000   0.068    [['SPACY:POS-NOUN', 'TEXT:call']]\n",
      " 78 Positive    6.5   1.000   0.068    [['HYPERNYM:person.n.01', 'SPACY:POS-PROPN']]\n",
      " 79 Positive    6.5   1.000   0.068    [['HYPERNYM:message.n.02'], ['SPACY:POS-NUM']]\n",
      " 80 Positive    6.5   1.000   0.068    [['HYPERNYM:communication.n.02'], ['SPACY:POS-PROPN']]\n",
      " 81 Positive    6.5   1.000   0.068    [['TEXT:your'], ['SPACY:POS-NUM']]\n",
      " 82 Positive    6.5   1.000   0.068    [['HYPERNYM:activity.n.01', 'HYPERNYM:event.n.01']]\n",
      " 83 Positive    6.5   1.000   0.068    [['SPACY:POS-NOUN'], ['SPACY:POS-SYM']]\n",
      " 84 Positive    6.5   1.000   0.068    [['SPACY:POS-NUM'], ['SPACY:POS-PROPN'], ['TEXT:.']]\n",
      " 85 Positive    6.5   1.000   0.068    [['SPACY:POS-PROPN'], ['SPACY:POS-PROPN'], ['SPACY:POS-SYM']]\n",
      " 86 Positive    6.5   1.000   0.068    [['SPACY:POS-NUM'], ['SPACY:POS-ADP'], ['SPACY:POS-NOUN']]\n",
      " 87 Positive    6.5   1.000   0.068    [['SPACY:POS-ADP'], ['SPACY:POS-NUM'], ['TEXT:.']]\n",
      " 88 Positive    6.5   1.000   0.068    [['TEXT:.'], ['TEXT:call'], ['SPACY:POS-NUM']]\n",
      " 89 Positive    6.5   1.000   0.068    [['SPACY:POS-PROPN'], ['SPACY:POS-PROPN'], ['SPACY:POS-PROPN'], ['TEXT:.']]\n",
      " 90 Positive    9.0   0.944   0.067    [['SPACY:POS-NOUN'], ['HYPERNYM:message.n.02']]\n",
      " 91 Positive    9.0   0.944   0.067    [['TEXT:.'], ['SPACY:POS-PROPN'], ['SPACY:POS-NUM']]\n",
      " 92 Positive   21.0   0.786   0.066    [['TEXT:your']]\n",
      " 93 Positive   42.5   0.671   0.063    [['SPACY:POS-NOUN'], ['SPACY:POS-ADP']]\n",
      " 94 Positive    6.0   1.000   0.063    [['TEXT:stop']]\n",
      " 95 Positive    6.0   1.000   0.063    [['SPACY:POS-SYM'], ['TEXT:.']]\n",
      " 96 Positive    6.0   1.000   0.063    [['SPACY:POS-NUM'], ['SPACY:POS-NOUN'], ['SPACY:POS-DET']]\n",
      " 97 Positive    6.0   1.000   0.063    [['SPACY:POS-DET'], ['SPACY:POS-PROPN'], ['SPACY:POS-NOUN']]\n",
      " 98 Positive    6.0   1.000   0.063    [['SPACY:POS-ADP', 'TEXT:to'], ['SPACY:POS-DET']]\n",
      " 99 Positive    6.0   1.000   0.063    [['SPACY:POS-PROPN'], ['SPACY:POS-PROPN'], ['SPACY:POS-NOUN'], ['TEXT:.']]\n",
      "100 Positive    8.5   0.941   0.062    [['HYPERNYM:statement.n.01']]\n"
     ]
    }
   ],
   "source": [
    "print(f'  #    class Cov(%)    Prec    Gain    Pattern')\n",
    "for idx, p in enumerate(the_patterns):\n",
    "    print(f'{idx+1:>3} {p.support_class}   {round(p.coverage*100, 1):>4}   {p.precision:.3f}   {p.metric:.3f}    {p.get_pattern_id()}')"
   ]
  },
  {
   "cell_type": "markdown",
   "metadata": {},
   "source": [
    "## Post-process the patterns"
   ]
  },
  {
   "cell_type": "code",
   "execution_count": 9,
   "metadata": {},
   "outputs": [
    {
     "name": "stdout",
     "output_type": "stream",
     "text": [
      "No. of remaining patterns = 96\n"
     ]
    }
   ],
   "source": [
    "# Select only patterns of which precision is greater than 0.70\n",
    "selected_patterns = [p for p in the_patterns if p.precision >= 0.70]\n",
    "print(f'No. of remaining patterns = {len(selected_patterns)}')"
   ]
  },
  {
   "cell_type": "code",
   "execution_count": 12,
   "metadata": {},
   "outputs": [
    {
     "name": "stdout",
     "output_type": "stream",
     "text": [
      "No. of remaining patterns = 85\n"
     ]
    }
   ],
   "source": [
    "# For every pair of patterns (p1, p2), remove pattern p2 if there exists p1 in the patterns set such that p2 is a specialization of p1 and metric of p2 is lower than p1\n",
    "selected_patterns = grasp.utils.remove_specialized_patterns(selected_patterns, metric = lambda x: x.precision)\n",
    "print(f'No. of remaining patterns = {len(selected_patterns)}')"
   ]
  },
  {
   "cell_type": "code",
   "execution_count": 13,
   "metadata": {
    "scrolled": true
   },
   "outputs": [
    {
     "name": "stdout",
     "output_type": "stream",
     "text": [
      "  #    class Cov(%)    Prec  Gain    Pattern\n",
      "  1 Positive   19.5   1.000   0.229    [['TEXT:call'], ['SPACY:POS-NUM']]\n",
      "  2 Positive   14.5   1.000   0.163    [['SPACY:POS-PROPN'], ['SPACY:POS-ADP'], ['SPACY:POS-NUM']]\n",
      "  3 Positive   14.5   1.000   0.163    [['SPACY:POS-PROPN'], ['SPACY:POS-NOUN'], ['SPACY:POS-NUM']]\n",
      "  4 Positive   12.5   1.000   0.138    [['SPACY:POS-PROPN'], ['SPACY:POS-SYM']]\n",
      "  5 Positive   12.0   1.000   0.132    [['SPACY:POS-PROPN'], ['SPACY:POS-NUM'], ['SPACY:POS-PROPN']]\n",
      "  6 Positive   11.5   1.000   0.126    [['SPACY:POS-PROPN'], ['SPACY:POS-PROPN'], ['SPACY:POS-PROPN'], ['SPACY:POS-NUM']]\n",
      "  7 Positive   11.0   1.000   0.120    [['SPACY:POS-PROPN'], ['SPACY:POS-PROPN'], ['SPACY:POS-PROPN'], ['SPACY:POS-NOUN']]\n",
      "  8 Positive   10.5   1.000   0.114    [['SPACY:POS-SYM'], ['SPACY:POS-PROPN']]\n",
      "  9 Positive   10.0   1.000   0.108    [['SENTIMENT:pos', 'SPACY:POS-PROPN']]\n",
      " 10 Positive    9.5   1.000   0.102    [['SPACY:POS-PROPN'], ['SPACY:POS-DET']]\n",
      " 11 Positive    9.5   1.000   0.102    [['TEXT:!'], ['SPACY:POS-PROPN']]\n",
      " 12 Positive    9.0   1.000   0.096    [['SPACY:POS-PROPN'], ['TEXT:call']]\n",
      " 13 Positive    9.0   1.000   0.096    [['SPACY:POS-PROPN'], ['SPACY:POS-NUM'], ['SPACY:POS-NUM']]\n",
      " 14 Positive    9.0   1.000   0.096    [['SPACY:POS-PROPN'], ['TEXT:.'], ['SPACY:POS-NOUN']]\n",
      " 15 Positive    8.5   1.000   0.091    [['TEXT:txt']]\n",
      " 16 Positive    8.5   1.000   0.091    [['SPACY:POS-DET'], ['SPACY:POS-PROPN'], ['SPACY:POS-PROPN']]\n",
      " 17 Positive    8.5   1.000   0.091    [['SPACY:POS-DET', 'TEXT:a'], ['SPACY:POS-PROPN']]\n",
      " 18 Positive    8.0   1.000   0.085    [['HYPERNYM:communication.n.02'], ['SPACY:POS-NUM']]\n",
      " 19 Positive    7.5   1.000   0.079    [['TEXT:claim']]\n",
      " 20 Negative    7.5   1.000   0.079    [['TEXT:my']]\n",
      " 21 Positive    7.5   1.000   0.079    [['SPACY:POS-PROPN'], ['HYPERNYM:message.n.02']]\n",
      " 22 Positive    7.5   1.000   0.079    [['HYPERNYM:message.n.02'], ['SPACY:POS-PROPN']]\n",
      " 23 Positive    7.5   1.000   0.079    [['HYPERNYM:act.n.02'], ['SPACY:POS-PROPN']]\n",
      " 24 Positive    7.0   1.000   0.074    [['HYPERNYM:symbol.n.01']]\n",
      " 25 Positive    7.0   1.000   0.074    [['TEXT:.'], ['SPACY:POS-NUM'], ['SPACY:POS-PROPN']]\n",
      " 26 Positive    6.5   1.000   0.068    [['SPACY:POS-NOUN', 'TEXT:call']]\n",
      " 27 Positive    6.5   1.000   0.068    [['HYPERNYM:person.n.01', 'SPACY:POS-PROPN']]\n",
      " 28 Positive    6.5   1.000   0.068    [['HYPERNYM:message.n.02'], ['SPACY:POS-NUM']]\n",
      " 29 Positive    6.5   1.000   0.068    [['HYPERNYM:communication.n.02'], ['SPACY:POS-PROPN']]\n",
      " 30 Positive    6.5   1.000   0.068    [['TEXT:your'], ['SPACY:POS-NUM']]\n",
      " 31 Positive    6.5   1.000   0.068    [['HYPERNYM:activity.n.01', 'HYPERNYM:event.n.01']]\n",
      " 32 Positive    6.5   1.000   0.068    [['SPACY:POS-NOUN'], ['SPACY:POS-SYM']]\n",
      " 33 Positive    6.5   1.000   0.068    [['SPACY:POS-NUM'], ['SPACY:POS-PROPN'], ['TEXT:.']]\n",
      " 34 Positive    6.5   1.000   0.068    [['SPACY:POS-NUM'], ['SPACY:POS-ADP'], ['SPACY:POS-NOUN']]\n",
      " 35 Positive    6.5   1.000   0.068    [['SPACY:POS-ADP'], ['SPACY:POS-NUM'], ['TEXT:.']]\n",
      " 36 Positive    6.5   1.000   0.068    [['SPACY:POS-PROPN'], ['SPACY:POS-PROPN'], ['SPACY:POS-PROPN'], ['TEXT:.']]\n",
      " 37 Positive    6.0   1.000   0.063    [['TEXT:stop']]\n",
      " 38 Positive    6.0   1.000   0.063    [['SPACY:POS-SYM'], ['TEXT:.']]\n",
      " 39 Positive    6.0   1.000   0.063    [['SPACY:POS-NUM'], ['SPACY:POS-NOUN'], ['SPACY:POS-DET']]\n",
      " 40 Positive    6.0   1.000   0.063    [['SPACY:POS-DET'], ['SPACY:POS-PROPN'], ['SPACY:POS-NOUN']]\n",
      " 41 Positive    6.0   1.000   0.063    [['SPACY:POS-ADP', 'TEXT:to'], ['SPACY:POS-DET']]\n",
      " 42 Positive    6.0   1.000   0.063    [['SPACY:POS-PROPN'], ['SPACY:POS-PROPN'], ['SPACY:POS-NOUN'], ['TEXT:.']]\n",
      " 43 Positive   19.5   0.974   0.192    [['TEXT:.'], ['SPACY:POS-NUM']]\n",
      " 44 Positive   18.5   0.973   0.179    [['SPACY:POS-NUM'], ['TEXT:.']]\n",
      " 45 Positive   17.5   0.971   0.166    [['SPACY:POS-DET'], ['SPACY:POS-PROPN']]\n",
      " 46 Positive   17.5   0.971   0.166    [['SPACY:POS-NUM'], ['SPACY:POS-PROPN'], ['SPACY:POS-PROPN']]\n",
      " 47 Positive   34.5   0.971   0.401    [['SPACY:POS-PROPN'], ['SPACY:POS-NUM']]\n",
      " 48 Positive   16.5   0.970   0.154    [['TEXT:to'], ['SPACY:POS-NUM']]\n",
      " 49 Positive   13.5   0.963   0.117    [['SPACY:POS-NOUN'], ['TEXT:call']]\n",
      " 50 Positive   13.0   0.962   0.111    [['TEXT:.'], ['SPACY:POS-PROPN'], ['SPACY:POS-PROPN']]\n",
      " 51 Positive   23.0   0.957   0.212    [['SPACY:POS-SYM']]\n",
      " 52 Positive   10.5   0.952   0.083    [['TEXT:free']]\n",
      " 53 Positive   10.0   0.950   0.078    [['SPACY:POS-NUM'], ['SENTIMENT:pos']]\n",
      " 54 Positive    9.5   0.947   0.073    [['SPACY:POS-NUM'], ['SPACY:POS-ADP'], ['SPACY:POS-PROPN']]\n",
      " 55 Positive   18.5   0.946   0.153    [['SPACY:POS-NUM'], ['SPACY:POS-NUM']]\n",
      " 56 Positive    9.0   0.944   0.067    [['SPACY:POS-NOUN'], ['HYPERNYM:message.n.02']]\n",
      " 57 Positive    8.5   0.941   0.062    [['HYPERNYM:statement.n.01']]\n",
      " 58 Positive   30.5   0.934   0.273    [['SPACY:POS-NUM'], ['SPACY:POS-PROPN']]\n",
      " 59 Positive   21.5   0.930   0.168    [['SPACY:POS-NUM'], ['SPACY:POS-ADP']]\n",
      " 60 Positive   14.0   0.929   0.100    [['SPACY:POS-PROPN'], ['SPACY:POS-PROPN'], ['TEXT:.']]\n",
      " 61 Positive   26.5   0.925   0.213    [['SPACY:POS-PROPN'], ['SPACY:POS-PROPN'], ['SPACY:POS-PROPN']]\n",
      " 62 Positive   18.5   0.919   0.131    [['TEXT:.'], ['SPACY:POS-NOUN']]\n",
      " 63 Positive   11.5   0.913   0.073    [['SPACY:POS-NUM'], ['SPACY:POS-NOUN'], ['TEXT:.']]\n",
      " 64 Positive   11.5   0.913   0.073    [['SPACY:POS-PROPN'], ['SPACY:POS-NOUN'], ['SPACY:POS-PROPN']]\n",
      " 65 Positive   21.0   0.905   0.141    [['SPACY:POS-NOUN'], ['SPACY:POS-PROPN'], ['SPACY:POS-PROPN']]\n",
      " 66 Positive   15.5   0.903   0.097    [['SPACY:POS-PROPN'], ['TEXT:to']]\n",
      " 67 Positive   15.0   0.900   0.092    [['SPACY:POS-NUM'], ['SPACY:POS-NOUN'], ['SPACY:POS-NOUN']]\n",
      " 68 Positive   25.5   0.882   0.159    [['SPACY:POS-PROPN'], ['SPACY:POS-ADP']]\n",
      " 69 Positive   25.0   0.880   0.153    [['SPACY:POS-PROPN'], ['SPACY:POS-PROPN'], ['SPACY:POS-NOUN']]\n",
      " 70 Positive   20.5   0.878   0.117    [['HYPERNYM:message.n.02']]\n",
      " 71 Negative   22.5   0.867   0.123    [['TEXT:i']]\n",
      " 72 Positive   14.5   0.862   0.070    [['SPACY:POS-NUM'], ['SPACY:POS-NOUN'], ['SPACY:POS-PROPN']]\n",
      " 73 Positive   53.0   0.858   0.474    [['SPACY:POS-NUM']]\n",
      " 74 Positive   17.0   0.853   0.080    [['HYPERNYM:act.n.02']]\n",
      " 75 Positive   25.0   0.840   0.119    [['TEXT:!']]\n",
      " 76 Positive   20.0   0.825   0.082    [['TEXT:for']]\n",
      " 77 Positive   24.5   0.796   0.086    [['SPACY:POS-NOUN'], ['TEXT:to']]\n",
      " 78 Positive   26.5   0.792   0.094    [['SPACY:POS-ADP', 'TEXT:to']]\n",
      " 79 Positive   21.5   0.791   0.070    [['HYPERNYM:communication.n.02']]\n",
      " 80 Positive   47.5   0.789   0.232    [['SPACY:POS-PROPN'], ['SPACY:POS-PROPN']]\n",
      " 81 Positive   21.0   0.786   0.066    [['TEXT:your']]\n",
      " 82 Positive   25.0   0.780   0.079    [['TEXT:.'], ['SPACY:POS-PROPN']]\n",
      " 83 Positive   29.5   0.780   0.099    [['SPACY:POS-PROPN'], ['TEXT:.']]\n",
      " 84 Positive   46.0   0.772   0.190    [['SPACY:POS-NOUN'], ['SPACY:POS-PROPN']]\n",
      " 85 Positive   46.0   0.717   0.120    [['SPACY:POS-PROPN'], ['SPACY:POS-NOUN']]\n"
     ]
    }
   ],
   "source": [
    "# Print the remaining patterns sorted by precision\n",
    "selected_patterns = sorted(selected_patterns, key = lambda x: x.precision, reverse = True)\n",
    "print(f'  #    class Cov(%)    Prec  Gain    Pattern')\n",
    "for idx, p in enumerate(selected_patterns):\n",
    "    print(f'{idx+1:>3} {p.support_class}   {round(p.coverage*100, 1):>4}   {p.precision:.3f}   {p.metric:.3f}    {p.get_pattern_id()}')"
   ]
  },
  {
   "cell_type": "code",
   "execution_count": 31,
   "metadata": {},
   "outputs": [
    {
     "data": {
      "text/plain": [
       "'A proper noun (a name of a specific individual, place, or object), closely followed by a preposition, and then by a number'"
      ]
     },
     "execution_count": 31,
     "metadata": {},
     "output_type": "execute_result"
    }
   ],
   "source": [
    "grasp.pattern2text(selected_patterns[1])"
   ]
  },
  {
   "cell_type": "markdown",
   "metadata": {},
   "source": [
    "## Save the patterns to a json file\n",
    "We can use this json file as an input of the web demo tool for exploring the learned patterns and the training data"
   ]
  },
  {
   "cell_type": "code",
   "execution_count": 13,
   "metadata": {},
   "outputs": [
    {
     "name": "stderr",
     "output_type": "stream",
     "text": [
      "100%|██████████| 47/47 [00:00<00:00, 380.03it/s]\n",
      "100%|██████████| 47/47 [00:00<00:00, 362.51it/s]\n"
     ]
    },
    {
     "name": "stdout",
     "output_type": "stream",
     "text": [
      "Successfully dump the results to results/case_study_1.json\n"
     ]
    }
   ],
   "source": [
    "grasp_model.to_json('results/case_study_1.json', patterns = selected_patterns, comment = 'Rank and group patterns based on precision. The minimum precision was set at 0.70')"
   ]
  },
  {
   "cell_type": "code",
   "execution_count": null,
   "metadata": {},
   "outputs": [],
   "source": []
  }
 ],
 "metadata": {
  "kernelspec": {
   "display_name": "base",
   "language": "python",
   "name": "python3"
  },
  "language_info": {
   "codemirror_mode": {
    "name": "ipython",
    "version": 3
   },
   "file_extension": ".py",
   "mimetype": "text/x-python",
   "name": "python",
   "nbconvert_exporter": "python",
   "pygments_lexer": "ipython3",
   "version": "3.9.7"
  },
  "vscode": {
   "interpreter": {
    "hash": "11df7bf060af0b04d565c59b1f69f91a2aa058dd22dbda95c21af2764a0cb933"
   }
  }
 },
 "nbformat": 4,
 "nbformat_minor": 2
}
